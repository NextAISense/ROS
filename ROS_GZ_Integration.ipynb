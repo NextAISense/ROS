{
 "cells": [
  {
   "cell_type": "markdown",
   "metadata": {},
   "source": [
    "### Creating a Python package for ROS-Gazebo Integrated Simulation Project using colcon build type"
   ]
  },
  {
   "cell_type": "markdown",
   "metadata": {},
   "source": [
    "Prerequsite: Install ROS2 <b>Jazzy Jalisco</b> Distro and **Gazebo Harmonic** vendor package\n"
   ]
  },
  {
   "cell_type": "markdown",
   "metadata": {},
   "source": [
    "First create the workspace folder with src directory"
   ]
  },
  {
   "cell_type": "code",
   "execution_count": null,
   "metadata": {
    "vscode": {
     "languageId": "shellscript"
    }
   },
   "outputs": [],
   "source": [
    "mkdir -p ~/rosgz_ws/src"
   ]
  },
  {
   "cell_type": "markdown",
   "metadata": {},
   "source": [
    "Now go inside the ~/rosgz_ws workspace and the source the ROS2 environment by"
   ]
  },
  {
   "cell_type": "code",
   "execution_count": null,
   "metadata": {
    "vscode": {
     "languageId": "shellscript"
    }
   },
   "outputs": [],
   "source": [
    "source /opt/ros/jazzy/setup.bash"
   ]
  },
  {
   "cell_type": "markdown",
   "metadata": {},
   "source": [
    "Now navigate to the src directory of the workspace and create the package"
   ]
  },
  {
   "cell_type": "code",
   "execution_count": null,
   "metadata": {
    "vscode": {
     "languageId": "shellscript"
    }
   },
   "outputs": [],
   "source": [
    "cd ~/rosgz_ws/src\n",
    "ros2 pkg create --build-type ament_python car_bot"
   ]
  },
  {
   "cell_type": "markdown",
   "metadata": {},
   "source": [
    "Here we are creating the ros2 package \"car_bot\" using the build type ament_python i.e we creating a python ros package. So the package name is taken as \"car_bot\" (you can choose your desired name). "
   ]
  },
  {
   "cell_type": "markdown",
   "metadata": {},
   "source": [
    "So inside the package, there will be files and directories like: car_bot,  package.xml,  resource,  setup.cfg,  setup.py,  test. You can confirm using the command"
   ]
  },
  {
   "cell_type": "code",
   "execution_count": null,
   "metadata": {
    "vscode": {
     "languageId": "shellscript"
    }
   },
   "outputs": [],
   "source": [
    "cd car_bot\n",
    "ls"
   ]
  },
  {
   "cell_type": "markdown",
   "metadata": {},
   "source": [
    "Now the relevant dependencies should be added to the \"package.xml\" file. Open the the file in any editor of your choice and add the following lines of code after the \"license\" tag."
   ]
  },
  {
   "cell_type": "code",
   "execution_count": null,
   "metadata": {
    "vscode": {
     "languageId": "xml"
    }
   },
   "outputs": [],
   "source": [
    "<?xml version=\"1.0\"?>\n",
    "<?xml-model href=\"http://download.ros.org/schema/package_format3.xsd\" schematypens=\"http://www.w3.org/2001/XMLSchema\"?>\n",
    "<package format=\"3\">\n",
    "  <name>car_bot</name>\n",
    "  <version>0.0.0</version>\n",
    "  <description>ROS_GAZEBO Integrated Project</description>\n",
    "  <maintainer email=\"dewan.zahid365@gmail.com\">zahid</maintainer>\n",
    "  <license>Apache-2.0</license>\n",
    "  \n",
    "  <!-- Addition of the dependencies -->\n",
    "  <depend>rclpy</depend>\n",
    "  <depend>geometry_msgs</depend>\n",
    "  <depend>ros_gz</depend>\n",
    "  <depend>gazebo_ros</depend>\n",
    "\n",
    "  <test_depend>ament_copyright</test_depend>\n",
    "  <test_depend>ament_flake8</test_depend>\n",
    "  <test_depend>ament_pep257</test_depend>\n",
    "  <test_depend>python3-pytest</test_depend>\n",
    "\n",
    "  <export>\n",
    "    <build_type>ament_python</build_type>\n",
    "  </export>\n",
    "</package>\n"
   ]
  },
  {
   "cell_type": "markdown",
   "metadata": {},
   "source": [
    "Also in the \"package.xml\" file you can modify the \"license\" tag and add the standard licenses like"
   ]
  },
  {
   "cell_type": "code",
   "execution_count": null,
   "metadata": {
    "vscode": {
     "languageId": "xml"
    }
   },
   "outputs": [],
   "source": [
    "<license>Apache-2.0</license>"
   ]
  },
  {
   "cell_type": "markdown",
   "metadata": {},
   "source": [
    "Now create the model directory where the meshes folder, .urdf/.sdf and .config files of the model are placed. "
   ]
  },
  {
   "cell_type": "code",
   "execution_count": null,
   "metadata": {
    "vscode": {
     "languageId": "shellscript"
    }
   },
   "outputs": [],
   "source": [
    "mkdir -p ~/rosgz_ws/src/car_bot/model"
   ]
  },
  {
   "cell_type": "markdown",
   "metadata": {},
   "source": [
    "Now go inside the model directory and create a meshes directory as"
   ]
  },
  {
   "cell_type": "code",
   "execution_count": null,
   "metadata": {
    "vscode": {
     "languageId": "shellscript"
    }
   },
   "outputs": [],
   "source": [
    "cd ~/rosgz_ws/src/car_bot/model\n",
    "mkdir meshes"
   ]
  },
  {
   "cell_type": "markdown",
   "metadata": {},
   "source": [
    "Now move inside the meshes folder by"
   ]
  },
  {
   "cell_type": "code",
   "execution_count": null,
   "metadata": {
    "vscode": {
     "languageId": "shellscript"
    }
   },
   "outputs": [],
   "source": [
    "cd meshes"
   ]
  },
  {
   "cell_type": "markdown",
   "metadata": {},
   "source": [
    "Now place all the .stl files generated from the CAD model using urdf converter. Remember to export the .stl files in ASCII/Binary format for better compatability.And then go one level up the directory i.e in the /model directory by"
   ]
  },
  {
   "cell_type": "code",
   "execution_count": null,
   "metadata": {
    "vscode": {
     "languageId": "shellscript"
    }
   },
   "outputs": [],
   "source": [
    "cd .."
   ]
  },
  {
   "cell_type": "markdown",
   "metadata": {},
   "source": [
    "Now place the .urdf file generated from the export urdf plugin of the CAD software. Important: .urdf file and /meshes directory should be in the same level in the package (in this case inside the \"car_bot\" package)"
   ]
  },
  {
   "cell_type": "markdown",
   "metadata": {},
   "source": [
    "For our case lets copy the code of the urdf in a file car_bot.urdf created in the model directory as"
   ]
  },
  {
   "cell_type": "code",
   "execution_count": null,
   "metadata": {
    "vscode": {
     "languageId": "shellscript"
    }
   },
   "outputs": [],
   "source": [
    "touch car_bot.urdf"
   ]
  },
  {
   "cell_type": "markdown",
   "metadata": {},
   "source": [
    "And then create a model.config file in the model directory as"
   ]
  },
  {
   "cell_type": "code",
   "execution_count": null,
   "metadata": {
    "vscode": {
     "languageId": "shellscript"
    }
   },
   "outputs": [],
   "source": [
    "touch model.config"
   ]
  },
  {
   "cell_type": "markdown",
   "metadata": {},
   "source": [
    "And copy the following code in the model.config file using a code editor"
   ]
  },
  {
   "cell_type": "code",
   "execution_count": null,
   "metadata": {
    "vscode": {
     "languageId": "xml"
    }
   },
   "outputs": [],
   "source": [
    "<?xml version=\"1.7\"?>\n",
    "<model>\n",
    "    <name>Car Bot Model</name>\n",
    "    <version>1.7</version>\n",
    "    <sdf>car_bot.urdf</sdf>\n",
    "    <author>\n",
    "        <name>Your Name</name>\n",
    "        <email>your.email@example.com</email>\n",
    "    </author>\n",
    "    <description>ROS_GAZEBO Integrated Project</description>\n",
    "</model>\n"
   ]
  },
  {
   "cell_type": "markdown",
   "metadata": {},
   "source": [
    "You can modify your name and email in the respective tags in the above code."
   ]
  },
  {
   "cell_type": "markdown",
   "metadata": {},
   "source": [
    "Now create a CustomGzInterface.config file in the model directory as"
   ]
  },
  {
   "cell_type": "code",
   "execution_count": null,
   "metadata": {
    "vscode": {
     "languageId": "shellscript"
    }
   },
   "outputs": [],
   "source": [
    "touch CustomGzInterface.config"
   ]
  },
  {
   "cell_type": "markdown",
   "metadata": {},
   "source": [
    "Now copy the following code in the CustomGzInterface.config file"
   ]
  },
  {
   "cell_type": "code",
   "execution_count": null,
   "metadata": {
    "vscode": {
     "languageId": "xml"
    }
   },
   "outputs": [],
   "source": [
    "<?xml version=\"1.0\"?>\n",
    "\n",
    "<window>\n",
    "    <position_x>-1</position_x>\n",
    "    <position_y>-1</position_y>\n",
    "    <state></state>\n",
    "    <width>1200</width>\n",
    "    <height>699</height>\n",
    "    <style material_theme=\"Light\" material_primary=\"#ff5722\" material_accent=\"#03a9f4\" toolbar_color_light=\"\" toolbar_text_color_light=\"\" toolbar_color_dark=\"\" toolbar_text_color_dark=\"\" plugin_toolbar_color_light=\"\" plugin_toolbar_text_color_light=\"\" plugin_toolbar_color_dark=\"\" plugin_toolbar_text_color_dark=\"\"/>\n",
    "    <menus>\n",
    "        <drawer visible=\"true\" default=\"true\"/>\n",
    "        <plugins visible=\"true\" from_paths=\"true\"/>\n",
    "    </menus>\n",
    "</window>\n",
    "<plugin filename=\"MinimalScene\">\n",
    "    <gz-gui>\n",
    "        <title>3D View</title>\n",
    "        <property key=\"x\" type=\"double\">0</property>\n",
    "        <property key=\"y\" type=\"double\">0</property>\n",
    "        <property key=\"z\" type=\"double\">0</property>\n",
    "        <property key=\"width\" type=\"double\">781</property>\n",
    "        <property key=\"height\" type=\"double\">651</property>\n",
    "        <property key=\"opacity\" type=\"double\">1</property>\n",
    "        <property key=\"enabled\" type=\"bool\">true</property>\n",
    "        <property key=\"visible\" type=\"bool\">true</property>\n",
    "        <property key=\"state\" type=\"string\">docked</property>\n",
    "        <property key=\"baselineOffset\" type=\"double\">0</property>\n",
    "        <property key=\"clip\" type=\"bool\">false</property>\n",
    "        <property key=\"focus\" type=\"bool\">false</property>\n",
    "        <property key=\"activeFocus\" type=\"bool\">false</property>\n",
    "        <property key=\"activeFocusOnTab\" type=\"bool\">false</property>\n",
    "        <property key=\"rotation\" type=\"double\">0</property>\n",
    "        <property key=\"scale\" type=\"double\">1</property>\n",
    "        <property key=\"smooth\" type=\"bool\">true</property>\n",
    "        <property key=\"antialiasing\" type=\"bool\">false</property>\n",
    "        <property key=\"implicitWidth\" type=\"double\">0</property>\n",
    "        <property key=\"implicitHeight\" type=\"double\">0</property>\n",
    "        <property key=\"availableWidth\" type=\"double\">781</property>\n",
    "        <property key=\"availableHeight\" type=\"double\">651</property>\n",
    "        <property key=\"padding\" type=\"double\">0</property>\n",
    "        <property key=\"topPadding\" type=\"double\">0</property>\n",
    "        <property key=\"leftPadding\" type=\"double\">0</property>\n",
    "        <property key=\"rightPadding\" type=\"double\">0</property>\n",
    "        <property key=\"bottomPadding\" type=\"double\">0</property>\n",
    "        <property key=\"spacing\" type=\"double\">0</property>\n",
    "        <property key=\"mirrored\" type=\"bool\">false</property>\n",
    "        <property key=\"visualFocus\" type=\"bool\">false</property>\n",
    "        <property key=\"hovered\" type=\"bool\">false</property>\n",
    "        <property key=\"hoverEnabled\" type=\"bool\">true</property>\n",
    "        <property key=\"wheelEnabled\" type=\"bool\">false</property>\n",
    "        <property key=\"baselineOffset\" type=\"double\">0</property>\n",
    "        <property key=\"horizontalPadding\" type=\"double\">0</property>\n",
    "        <property key=\"verticalPadding\" type=\"double\">0</property>\n",
    "        <property key=\"implicitContentWidth\" type=\"double\">0</property>\n",
    "        <property key=\"implicitContentHeight\" type=\"double\">0</property>\n",
    "        <property key=\"implicitBackgroundWidth\" type=\"double\">0</property>\n",
    "        <property key=\"implicitBackgroundHeight\" type=\"double\">0</property>\n",
    "        <property key=\"topInset\" type=\"double\">0</property>\n",
    "        <property key=\"leftInset\" type=\"double\">0</property>\n",
    "        <property key=\"rightInset\" type=\"double\">0</property>\n",
    "        <property key=\"bottomInset\" type=\"double\">0</property>\n",
    "        <property key=\"contentWidth\" type=\"double\">0</property>\n",
    "        <property key=\"contentHeight\" type=\"double\">0</property>\n",
    "        <property key=\"minSize\" type=\"int\">50</property>\n",
    "        <property key=\"showDockButton\" type=\"bool\">true</property>\n",
    "        <property key=\"showCloseButton\" type=\"bool\">true</property>\n",
    "        <property key=\"showCollapseButton\" type=\"bool\">true</property>\n",
    "        <property key=\"showTitleBar\" type=\"bool\">false</property>\n",
    "        <property key=\"resizable\" type=\"bool\">true</property>\n",
    "        <property key=\"standalone\" type=\"bool\">false</property>\n",
    "        <property key=\"dockIcon\" type=\"string\">▁</property>\n",
    "        <property key=\"collapseIcon\" type=\"string\">▴</property>\n",
    "        <property key=\"expandIcon\" type=\"string\">▾</property>\n",
    "        <property key=\"floatIcon\" type=\"string\">□</property>\n",
    "        <property key=\"closeIcon\" type=\"string\">✕</property>\n",
    "        <property key=\"cardBackground\" type=\"string\">#00000000</property>\n",
    "        <property key=\"lastHeight\" type=\"int\">50</property>\n",
    "        <property key=\"cardMinimumWidth\" type=\"int\">200</property>\n",
    "        <property key=\"cardMinimumHeight\" type=\"int\">200</property>\n",
    "        <property key=\"pluginToolBarColor\" type=\"string\">#03a9f4</property>\n",
    "        <property key=\"pluginToolBarTextColor\" type=\"string\">#fafafa</property>\n",
    "    </gz-gui>\n",
    "    <engine>ogre2</engine>\n",
    "    <scene>scene</scene>\n",
    "    <ambient_light>1.0 1.0 1.0</ambient_light>\n",
    "    <background_color>0.4 0.6 1.0</background_color>\n",
    "    <camera_pose>8.3 7 7.8 0 0.5 -2.4</camera_pose>\n",
    "</plugin>\n",
    "<plugin filename=\"GzSceneManager\">\n",
    "    <gz-gui>\n",
    "        <property key=\"x\" type=\"double\">0</property>\n",
    "        <property key=\"y\" type=\"double\">0</property>\n",
    "        <property key=\"z\" type=\"double\">0</property>\n",
    "        <property key=\"width\" type=\"double\">5</property>\n",
    "        <property key=\"height\" type=\"double\">5</property>\n",
    "        <property key=\"opacity\" type=\"double\">1</property>\n",
    "        <property key=\"enabled\" type=\"bool\">true</property>\n",
    "        <property key=\"visible\" type=\"bool\">true</property>\n",
    "        <property key=\"state\" type=\"string\">floating</property>\n",
    "        <property key=\"baselineOffset\" type=\"double\">0</property>\n",
    "        <property key=\"clip\" type=\"bool\">false</property>\n",
    "        <property key=\"focus\" type=\"bool\">false</property>\n",
    "        <property key=\"activeFocus\" type=\"bool\">false</property>\n",
    "        <property key=\"activeFocusOnTab\" type=\"bool\">false</property>\n",
    "        <property key=\"rotation\" type=\"double\">0</property>\n",
    "        <property key=\"scale\" type=\"double\">1</property>\n",
    "        <property key=\"smooth\" type=\"bool\">true</property>\n",
    "        <property key=\"antialiasing\" type=\"bool\">false</property>\n",
    "        <property key=\"implicitWidth\" type=\"double\">0</property>\n",
    "        <property key=\"implicitHeight\" type=\"double\">0</property>\n",
    "        <property key=\"availableWidth\" type=\"double\">5</property>\n",
    "        <property key=\"availableHeight\" type=\"double\">5</property>\n",
    "        <property key=\"padding\" type=\"double\">0</property>\n",
    "        <property key=\"topPadding\" type=\"double\">0</property>\n",
    "        <property key=\"leftPadding\" type=\"double\">0</property>\n",
    "        <property key=\"rightPadding\" type=\"double\">0</property>\n",
    "        <property key=\"bottomPadding\" type=\"double\">0</property>\n",
    "        <property key=\"spacing\" type=\"double\">0</property>\n",
    "        <property key=\"mirrored\" type=\"bool\">false</property>\n",
    "        <property key=\"visualFocus\" type=\"bool\">false</property>\n",
    "        <property key=\"hovered\" type=\"bool\">false</property>\n",
    "        <property key=\"hoverEnabled\" type=\"bool\">true</property>\n",
    "        <property key=\"wheelEnabled\" type=\"bool\">false</property>\n",
    "        <property key=\"baselineOffset\" type=\"double\">0</property>\n",
    "        <property key=\"horizontalPadding\" type=\"double\">0</property>\n",
    "        <property key=\"verticalPadding\" type=\"double\">0</property>\n",
    "        <property key=\"implicitContentWidth\" type=\"double\">0</property>\n",
    "        <property key=\"implicitContentHeight\" type=\"double\">0</property>\n",
    "        <property key=\"implicitBackgroundWidth\" type=\"double\">0</property>\n",
    "        <property key=\"implicitBackgroundHeight\" type=\"double\">0</property>\n",
    "        <property key=\"topInset\" type=\"double\">0</property>\n",
    "        <property key=\"leftInset\" type=\"double\">0</property>\n",
    "        <property key=\"rightInset\" type=\"double\">0</property>\n",
    "        <property key=\"bottomInset\" type=\"double\">0</property>\n",
    "        <property key=\"contentWidth\" type=\"double\">0</property>\n",
    "        <property key=\"contentHeight\" type=\"double\">0</property>\n",
    "        <property key=\"minSize\" type=\"int\">50</property>\n",
    "        <property key=\"showDockButton\" type=\"bool\">true</property>\n",
    "        <property key=\"showCloseButton\" type=\"bool\">true</property>\n",
    "        <property key=\"showCollapseButton\" type=\"bool\">true</property>\n",
    "        <property key=\"showTitleBar\" type=\"bool\">false</property>\n",
    "        <property key=\"resizable\" type=\"bool\">false</property>\n",
    "        <property key=\"standalone\" type=\"bool\">false</property>\n",
    "        <property key=\"dockIcon\" type=\"string\">▁</property>\n",
    "        <property key=\"collapseIcon\" type=\"string\">▴</property>\n",
    "        <property key=\"expandIcon\" type=\"string\">▾</property>\n",
    "        <property key=\"floatIcon\" type=\"string\">□</property>\n",
    "        <property key=\"closeIcon\" type=\"string\">✕</property>\n",
    "        <property key=\"cardBackground\" type=\"string\">#00000000</property>\n",
    "        <property key=\"lastHeight\" type=\"int\">130</property>\n",
    "        <property key=\"cardMinimumWidth\" type=\"int\">350</property>\n",
    "        <property key=\"cardMinimumHeight\" type=\"int\">130</property>\n",
    "        <property key=\"pluginToolBarColor\" type=\"string\">#03a9f4</property>\n",
    "        <property key=\"pluginToolBarTextColor\" type=\"string\">#fafafa</property>\n",
    "    </gz-gui>\n",
    "</plugin>\n",
    "<plugin filename=\"InteractiveViewControl\">\n",
    "    <gz-gui>\n",
    "        <property key=\"x\" type=\"double\">0</property>\n",
    "        <property key=\"y\" type=\"double\">0</property>\n",
    "        <property key=\"z\" type=\"double\">0</property>\n",
    "        <property key=\"width\" type=\"double\">5</property>\n",
    "        <property key=\"height\" type=\"double\">5</property>\n",
    "        <property key=\"opacity\" type=\"double\">1</property>\n",
    "        <property key=\"enabled\" type=\"bool\">true</property>\n",
    "        <property key=\"visible\" type=\"bool\">true</property>\n",
    "        <property key=\"state\" type=\"string\">floating</property>\n",
    "        <property key=\"baselineOffset\" type=\"double\">0</property>\n",
    "        <property key=\"clip\" type=\"bool\">false</property>\n",
    "        <property key=\"focus\" type=\"bool\">false</property>\n",
    "        <property key=\"activeFocus\" type=\"bool\">false</property>\n",
    "        <property key=\"activeFocusOnTab\" type=\"bool\">false</property>\n",
    "        <property key=\"rotation\" type=\"double\">0</property>\n",
    "        <property key=\"scale\" type=\"double\">1</property>\n",
    "        <property key=\"smooth\" type=\"bool\">true</property>\n",
    "        <property key=\"antialiasing\" type=\"bool\">false</property>\n",
    "        <property key=\"implicitWidth\" type=\"double\">0</property>\n",
    "        <property key=\"implicitHeight\" type=\"double\">0</property>\n",
    "        <property key=\"availableWidth\" type=\"double\">5</property>\n",
    "        <property key=\"availableHeight\" type=\"double\">5</property>\n",
    "        <property key=\"padding\" type=\"double\">0</property>\n",
    "        <property key=\"topPadding\" type=\"double\">0</property>\n",
    "        <property key=\"leftPadding\" type=\"double\">0</property>\n",
    "        <property key=\"rightPadding\" type=\"double\">0</property>\n",
    "        <property key=\"bottomPadding\" type=\"double\">0</property>\n",
    "        <property key=\"spacing\" type=\"double\">0</property>\n",
    "        <property key=\"mirrored\" type=\"bool\">false</property>\n",
    "        <property key=\"visualFocus\" type=\"bool\">false</property>\n",
    "        <property key=\"hovered\" type=\"bool\">false</property>\n",
    "        <property key=\"hoverEnabled\" type=\"bool\">true</property>\n",
    "        <property key=\"wheelEnabled\" type=\"bool\">false</property>\n",
    "        <property key=\"baselineOffset\" type=\"double\">0</property>\n",
    "        <property key=\"horizontalPadding\" type=\"double\">0</property>\n",
    "        <property key=\"verticalPadding\" type=\"double\">0</property>\n",
    "        <property key=\"implicitContentWidth\" type=\"double\">0</property>\n",
    "        <property key=\"implicitContentHeight\" type=\"double\">0</property>\n",
    "        <property key=\"implicitBackgroundWidth\" type=\"double\">0</property>\n",
    "        <property key=\"implicitBackgroundHeight\" type=\"double\">0</property>\n",
    "        <property key=\"topInset\" type=\"double\">0</property>\n",
    "        <property key=\"leftInset\" type=\"double\">0</property>\n",
    "        <property key=\"rightInset\" type=\"double\">0</property>\n",
    "        <property key=\"bottomInset\" type=\"double\">0</property>\n",
    "        <property key=\"contentWidth\" type=\"double\">0</property>\n",
    "        <property key=\"contentHeight\" type=\"double\">0</property>\n",
    "        <property key=\"minSize\" type=\"int\">50</property>\n",
    "        <property key=\"showDockButton\" type=\"bool\">true</property>\n",
    "        <property key=\"showCloseButton\" type=\"bool\">true</property>\n",
    "        <property key=\"showCollapseButton\" type=\"bool\">true</property>\n",
    "        <property key=\"showTitleBar\" type=\"bool\">false</property>\n",
    "        <property key=\"resizable\" type=\"bool\">false</property>\n",
    "        <property key=\"standalone\" type=\"bool\">false</property>\n",
    "        <property key=\"dockIcon\" type=\"string\">▁</property>\n",
    "        <property key=\"collapseIcon\" type=\"string\">▴</property>\n",
    "        <property key=\"expandIcon\" type=\"string\">▾</property>\n",
    "        <property key=\"floatIcon\" type=\"string\">□</property>\n",
    "        <property key=\"closeIcon\" type=\"string\">✕</property>\n",
    "        <property key=\"cardBackground\" type=\"string\">#00000000</property>\n",
    "        <property key=\"lastHeight\" type=\"int\">110</property>\n",
    "        <property key=\"cardMinimumWidth\" type=\"int\">350</property>\n",
    "        <property key=\"cardMinimumHeight\" type=\"int\">110</property>\n",
    "        <property key=\"pluginToolBarColor\" type=\"string\">#03a9f4</property>\n",
    "        <property key=\"pluginToolBarTextColor\" type=\"string\">#fafafa</property>\n",
    "    </gz-gui>\n",
    "</plugin>\n",
    "<plugin filename=\"WorldControl\">\n",
    "    <gz-gui>\n",
    "        <title>World control</title>\n",
    "        <anchors target=\"3D View\">\n",
    "            <line own=\"left\" target=\"left\"/>\n",
    "            <line own=\"bottom\" target=\"bottom\"/>\n",
    "        </anchors>\n",
    "        <property key=\"x\" type=\"double\">0</property>\n",
    "        <property key=\"y\" type=\"double\">579</property>\n",
    "        <property key=\"z\" type=\"double\">1</property>\n",
    "        <property key=\"width\" type=\"double\">199</property>\n",
    "        <property key=\"height\" type=\"double\">72</property>\n",
    "        <property key=\"opacity\" type=\"double\">1</property>\n",
    "        <property key=\"enabled\" type=\"bool\">true</property>\n",
    "        <property key=\"visible\" type=\"bool\">true</property>\n",
    "        <property key=\"state\" type=\"string\">floating</property>\n",
    "        <property key=\"baselineOffset\" type=\"double\">0</property>\n",
    "        <property key=\"clip\" type=\"bool\">false</property>\n",
    "        <property key=\"focus\" type=\"bool\">false</property>\n",
    "        <property key=\"activeFocus\" type=\"bool\">false</property>\n",
    "        <property key=\"activeFocusOnTab\" type=\"bool\">false</property>\n",
    "        <property key=\"rotation\" type=\"double\">0</property>\n",
    "        <property key=\"scale\" type=\"double\">1</property>\n",
    "        <property key=\"smooth\" type=\"bool\">true</property>\n",
    "        <property key=\"antialiasing\" type=\"bool\">false</property>\n",
    "        <property key=\"implicitWidth\" type=\"double\">0</property>\n",
    "        <property key=\"implicitHeight\" type=\"double\">0</property>\n",
    "        <property key=\"availableWidth\" type=\"double\">199</property>\n",
    "        <property key=\"availableHeight\" type=\"double\">72</property>\n",
    "        <property key=\"padding\" type=\"double\">0</property>\n",
    "        <property key=\"topPadding\" type=\"double\">0</property>\n",
    "        <property key=\"leftPadding\" type=\"double\">0</property>\n",
    "        <property key=\"rightPadding\" type=\"double\">0</property>\n",
    "        <property key=\"bottomPadding\" type=\"double\">0</property>\n",
    "        <property key=\"spacing\" type=\"double\">0</property>\n",
    "        <property key=\"mirrored\" type=\"bool\">false</property>\n",
    "        <property key=\"visualFocus\" type=\"bool\">false</property>\n",
    "        <property key=\"hovered\" type=\"bool\">false</property>\n",
    "        <property key=\"hoverEnabled\" type=\"bool\">true</property>\n",
    "        <property key=\"wheelEnabled\" type=\"bool\">false</property>\n",
    "        <property key=\"baselineOffset\" type=\"double\">0</property>\n",
    "        <property key=\"horizontalPadding\" type=\"double\">0</property>\n",
    "        <property key=\"verticalPadding\" type=\"double\">0</property>\n",
    "        <property key=\"implicitContentWidth\" type=\"double\">0</property>\n",
    "        <property key=\"implicitContentHeight\" type=\"double\">0</property>\n",
    "        <property key=\"implicitBackgroundWidth\" type=\"double\">0</property>\n",
    "        <property key=\"implicitBackgroundHeight\" type=\"double\">0</property>\n",
    "        <property key=\"topInset\" type=\"double\">0</property>\n",
    "        <property key=\"leftInset\" type=\"double\">0</property>\n",
    "        <property key=\"rightInset\" type=\"double\">0</property>\n",
    "        <property key=\"bottomInset\" type=\"double\">0</property>\n",
    "        <property key=\"contentWidth\" type=\"double\">0</property>\n",
    "        <property key=\"contentHeight\" type=\"double\">0</property>\n",
    "        <property key=\"minSize\" type=\"int\">50</property>\n",
    "        <property key=\"showDockButton\" type=\"bool\">true</property>\n",
    "        <property key=\"showCloseButton\" type=\"bool\">true</property>\n",
    "        <property key=\"showCollapseButton\" type=\"bool\">true</property>\n",
    "        <property key=\"showTitleBar\" type=\"bool\">false</property>\n",
    "        <property key=\"resizable\" type=\"bool\">false</property>\n",
    "        <property key=\"standalone\" type=\"bool\">false</property>\n",
    "        <property key=\"dockIcon\" type=\"string\">▁</property>\n",
    "        <property key=\"collapseIcon\" type=\"string\">▴</property>\n",
    "        <property key=\"expandIcon\" type=\"string\">▾</property>\n",
    "        <property key=\"floatIcon\" type=\"string\">□</property>\n",
    "        <property key=\"closeIcon\" type=\"string\">✕</property>\n",
    "        <property key=\"cardBackground\" type=\"string\">#00000000</property>\n",
    "        <property key=\"lastHeight\" type=\"int\">100</property>\n",
    "        <property key=\"cardMinimumWidth\" type=\"int\">100</property>\n",
    "        <property key=\"cardMinimumHeight\" type=\"int\">100</property>\n",
    "        <property key=\"pluginToolBarColor\" type=\"string\">#03a9f4</property>\n",
    "        <property key=\"pluginToolBarTextColor\" type=\"string\">#fafafa</property>\n",
    "    </gz-gui>\n",
    "    <play_pause>true</play_pause>\n",
    "    <step>true</step>\n",
    "    <start_paused>true</start_paused>\n",
    "    <service>/world/world_demo/control</service>\n",
    "    <stats_topic>/world/world_demo/stats</stats_topic>\n",
    "</plugin>\n",
    "<plugin filename=\"Teleop\">\n",
    "    <gz-gui>\n",
    "        <property key=\"x\" type=\"double\">0</property>\n",
    "        <property key=\"y\" type=\"double\">0</property>\n",
    "        <property key=\"z\" type=\"double\">0</property>\n",
    "        <property key=\"width\" type=\"double\">400</property>\n",
    "        <property key=\"height\" type=\"double\">650</property>\n",
    "        <property key=\"opacity\" type=\"double\">1</property>\n",
    "        <property key=\"enabled\" type=\"bool\">true</property>\n",
    "        <property key=\"visible\" type=\"bool\">true</property>\n",
    "        <property key=\"state\" type=\"string\">docked</property>\n",
    "        <property key=\"baselineOffset\" type=\"double\">0</property>\n",
    "        <property key=\"clip\" type=\"bool\">false</property>\n",
    "        <property key=\"focus\" type=\"bool\">false</property>\n",
    "        <property key=\"activeFocus\" type=\"bool\">false</property>\n",
    "        <property key=\"activeFocusOnTab\" type=\"bool\">false</property>\n",
    "        <property key=\"rotation\" type=\"double\">0</property>\n",
    "        <property key=\"scale\" type=\"double\">1</property>\n",
    "        <property key=\"smooth\" type=\"bool\">true</property>\n",
    "        <property key=\"antialiasing\" type=\"bool\">false</property>\n",
    "        <property key=\"implicitWidth\" type=\"double\">0</property>\n",
    "        <property key=\"implicitHeight\" type=\"double\">0</property>\n",
    "        <property key=\"availableWidth\" type=\"double\">400</property>\n",
    "        <property key=\"availableHeight\" type=\"double\">650</property>\n",
    "        <property key=\"padding\" type=\"double\">0</property>\n",
    "        <property key=\"topPadding\" type=\"double\">0</property>\n",
    "        <property key=\"leftPadding\" type=\"double\">0</property>\n",
    "        <property key=\"rightPadding\" type=\"double\">0</property>\n",
    "        <property key=\"bottomPadding\" type=\"double\">0</property>\n",
    "        <property key=\"spacing\" type=\"double\">0</property>\n",
    "        <property key=\"mirrored\" type=\"bool\">false</property>\n",
    "        <property key=\"visualFocus\" type=\"bool\">false</property>\n",
    "        <property key=\"hovered\" type=\"bool\">false</property>\n",
    "        <property key=\"hoverEnabled\" type=\"bool\">true</property>\n",
    "        <property key=\"wheelEnabled\" type=\"bool\">false</property>\n",
    "        <property key=\"baselineOffset\" type=\"double\">0</property>\n",
    "        <property key=\"horizontalPadding\" type=\"double\">0</property>\n",
    "        <property key=\"verticalPadding\" type=\"double\">0</property>\n",
    "        <property key=\"implicitContentWidth\" type=\"double\">0</property>\n",
    "        <property key=\"implicitContentHeight\" type=\"double\">0</property>\n",
    "        <property key=\"implicitBackgroundWidth\" type=\"double\">0</property>\n",
    "        <property key=\"implicitBackgroundHeight\" type=\"double\">0</property>\n",
    "        <property key=\"topInset\" type=\"double\">0</property>\n",
    "        <property key=\"leftInset\" type=\"double\">0</property>\n",
    "        <property key=\"rightInset\" type=\"double\">0</property>\n",
    "        <property key=\"bottomInset\" type=\"double\">0</property>\n",
    "        <property key=\"contentWidth\" type=\"double\">0</property>\n",
    "        <property key=\"contentHeight\" type=\"double\">0</property>\n",
    "        <property key=\"minSize\" type=\"int\">50</property>\n",
    "        <property key=\"showDockButton\" type=\"bool\">true</property>\n",
    "        <property key=\"showCloseButton\" type=\"bool\">true</property>\n",
    "        <property key=\"showCollapseButton\" type=\"bool\">true</property>\n",
    "        <property key=\"showTitleBar\" type=\"bool\">true</property>\n",
    "        <property key=\"resizable\" type=\"bool\">true</property>\n",
    "        <property key=\"standalone\" type=\"bool\">false</property>\n",
    "        <property key=\"dockIcon\" type=\"string\">▁</property>\n",
    "        <property key=\"collapseIcon\" type=\"string\">▴</property>\n",
    "        <property key=\"expandIcon\" type=\"string\">▾</property>\n",
    "        <property key=\"floatIcon\" type=\"string\">□</property>\n",
    "        <property key=\"closeIcon\" type=\"string\">✕</property>\n",
    "        <property key=\"cardBackground\" type=\"string\">#00000000</property>\n",
    "        <property key=\"lastHeight\" type=\"int\">50</property>\n",
    "        <property key=\"cardMinimumWidth\" type=\"int\">400</property>\n",
    "        <property key=\"cardMinimumHeight\" type=\"int\">650</property>\n",
    "        <property key=\"pluginToolBarColor\" type=\"string\">#03a9f4</property>\n",
    "        <property key=\"pluginToolBarTextColor\" type=\"string\">#fafafa</property>\n",
    "    </gz-gui>\n",
    "</plugin>\n",
    "<plugin filename=\"EntityTree\">\n",
    "    <gz-gui>\n",
    "        <property key=\"x\" type=\"double\">0</property>\n",
    "        <property key=\"y\" type=\"double\">0</property>\n",
    "        <property key=\"z\" type=\"double\">0</property>\n",
    "        <property key=\"width\" type=\"double\">400</property>\n",
    "        <property key=\"height\" type=\"double\">375</property>\n",
    "        <property key=\"opacity\" type=\"double\">1</property>\n",
    "        <property key=\"enabled\" type=\"bool\">true</property>\n",
    "        <property key=\"visible\" type=\"bool\">true</property>\n",
    "        <property key=\"state\" type=\"string\">docked</property>\n",
    "        <property key=\"baselineOffset\" type=\"double\">0</property>\n",
    "        <property key=\"clip\" type=\"bool\">false</property>\n",
    "        <property key=\"focus\" type=\"bool\">false</property>\n",
    "        <property key=\"activeFocus\" type=\"bool\">false</property>\n",
    "        <property key=\"activeFocusOnTab\" type=\"bool\">false</property>\n",
    "        <property key=\"rotation\" type=\"double\">0</property>\n",
    "        <property key=\"scale\" type=\"double\">1</property>\n",
    "        <property key=\"smooth\" type=\"bool\">true</property>\n",
    "        <property key=\"antialiasing\" type=\"bool\">false</property>\n",
    "        <property key=\"implicitWidth\" type=\"double\">0</property>\n",
    "        <property key=\"implicitHeight\" type=\"double\">0</property>\n",
    "        <property key=\"availableWidth\" type=\"double\">400</property>\n",
    "        <property key=\"availableHeight\" type=\"double\">375</property>\n",
    "        <property key=\"padding\" type=\"double\">0</property>\n",
    "        <property key=\"topPadding\" type=\"double\">0</property>\n",
    "        <property key=\"leftPadding\" type=\"double\">0</property>\n",
    "        <property key=\"rightPadding\" type=\"double\">0</property>\n",
    "        <property key=\"bottomPadding\" type=\"double\">0</property>\n",
    "        <property key=\"spacing\" type=\"double\">0</property>\n",
    "        <property key=\"mirrored\" type=\"bool\">false</property>\n",
    "        <property key=\"visualFocus\" type=\"bool\">false</property>\n",
    "        <property key=\"hovered\" type=\"bool\">false</property>\n",
    "        <property key=\"hoverEnabled\" type=\"bool\">true</property>\n",
    "        <property key=\"wheelEnabled\" type=\"bool\">false</property>\n",
    "        <property key=\"baselineOffset\" type=\"double\">0</property>\n",
    "        <property key=\"horizontalPadding\" type=\"double\">0</property>\n",
    "        <property key=\"verticalPadding\" type=\"double\">0</property>\n",
    "        <property key=\"implicitContentWidth\" type=\"double\">0</property>\n",
    "        <property key=\"implicitContentHeight\" type=\"double\">0</property>\n",
    "        <property key=\"implicitBackgroundWidth\" type=\"double\">0</property>\n",
    "        <property key=\"implicitBackgroundHeight\" type=\"double\">0</property>\n",
    "        <property key=\"topInset\" type=\"double\">0</property>\n",
    "        <property key=\"leftInset\" type=\"double\">0</property>\n",
    "        <property key=\"rightInset\" type=\"double\">0</property>\n",
    "        <property key=\"bottomInset\" type=\"double\">0</property>\n",
    "        <property key=\"contentWidth\" type=\"double\">0</property>\n",
    "        <property key=\"contentHeight\" type=\"double\">0</property>\n",
    "        <property key=\"minSize\" type=\"int\">50</property>\n",
    "        <property key=\"showDockButton\" type=\"bool\">true</property>\n",
    "        <property key=\"showCloseButton\" type=\"bool\">true</property>\n",
    "        <property key=\"showCollapseButton\" type=\"bool\">true</property>\n",
    "        <property key=\"showTitleBar\" type=\"bool\">true</property>\n",
    "        <property key=\"resizable\" type=\"bool\">true</property>\n",
    "        <property key=\"standalone\" type=\"bool\">false</property>\n",
    "        <property key=\"dockIcon\" type=\"string\">▁</property>\n",
    "        <property key=\"collapseIcon\" type=\"string\">▴</property>\n",
    "        <property key=\"expandIcon\" type=\"string\">▾</property>\n",
    "        <property key=\"floatIcon\" type=\"string\">□</property>\n",
    "        <property key=\"closeIcon\" type=\"string\">✕</property>\n",
    "        <property key=\"cardBackground\" type=\"string\">#00000000</property>\n",
    "        <property key=\"lastHeight\" type=\"int\">50</property>\n",
    "        <property key=\"cardMinimumWidth\" type=\"int\">400</property>\n",
    "        <property key=\"cardMinimumHeight\" type=\"int\">375</property>\n",
    "        <property key=\"pluginToolBarColor\" type=\"string\">#03a9f4</property>\n",
    "        <property key=\"pluginToolBarTextColor\" type=\"string\">#fafafa</property>\n",
    "    </gz-gui>\n",
    "</plugin>\n"
   ]
  },
  {
   "cell_type": "markdown",
   "metadata": {},
   "source": [
    "Now come back one level up to the package car_bot folder and create a launch directory as"
   ]
  },
  {
   "cell_type": "code",
   "execution_count": null,
   "metadata": {
    "vscode": {
     "languageId": "shellscript"
    }
   },
   "outputs": [],
   "source": [
    "cd ..\n",
    "mkdir launch"
   ]
  },
  {
   "cell_type": "markdown",
   "metadata": {},
   "source": [
    "Move inside the launch directory and create a carbot.launch.py"
   ]
  },
  {
   "cell_type": "code",
   "execution_count": null,
   "metadata": {
    "vscode": {
     "languageId": "shellscript"
    }
   },
   "outputs": [],
   "source": [
    "cd launch\n",
    "touch carbot.launch.py"
   ]
  },
  {
   "cell_type": "markdown",
   "metadata": {},
   "source": [
    "Now open the carbot.launch.py file and copy the following code "
   ]
  },
  {
   "cell_type": "code",
   "execution_count": null,
   "metadata": {},
   "outputs": [],
   "source": [
    "from launch import LaunchDescription\n",
    "from launch.actions import ExecuteProcess\n",
    "from launch_ros.actions import Node\n",
    "from launch.substitutions import PathJoinSubstitution\n",
    "from launch_ros.substitutions import FindPackageShare\n",
    "\n",
    "def generate_launch_description():\n",
    "\n",
    "    # Path to the carbot model and customgazebointerface config files(update this with your actual model location)\n",
    "    model_file = PathJoinSubstitution([FindPackageShare('car_bot'), 'model/car_bot.urdf'])\n",
    "    config_file = PathJoinSubstitution([FindPackageShare('car_bot'), 'model/CustomGzInterface.config'])\n",
    "    print(\"MODEL_FILE:\", model_file.__dict__)\n",
    "    return LaunchDescription([\n",
    "        # Spawn the carbot model into the Gazebo world\n",
    "        ExecuteProcess(\n",
    "            cmd=['gz', 'sim', model_file, '--gui-config', config_file],\n",
    "            output='screen'\n",
    "        ),\n",
    "        # Add the ROS-Gazebo bridge for the /cmd_vel topic\n",
    "        Node(\n",
    "            package='ros_gz_bridge', \n",
    "            executable='parameter_bridge', \n",
    "            name='ros_gz_bridge', \n",
    "            arguments=['/cmd_vel@geometry_msgs/msg/Twist@gz.msgs.Twist'], \n",
    "            output='screen'\n",
    "        ),\n",
    "    ])\n"
   ]
  },
  {
   "cell_type": "markdown",
   "metadata": {},
   "source": [
    "Now again come up one level to the package car_bot folder"
   ]
  },
  {
   "cell_type": "code",
   "execution_count": null,
   "metadata": {
    "vscode": {
     "languageId": "shellscript"
    }
   },
   "outputs": [],
   "source": [
    "cd .."
   ]
  },
  {
   "cell_type": "markdown",
   "metadata": {},
   "source": [
    "And then open the setup.py file and add the launch and model directories after the package.xml in data_files section"
   ]
  },
  {
   "cell_type": "code",
   "execution_count": null,
   "metadata": {},
   "outputs": [],
   "source": [
    "from setuptools import find_packages, setup\n",
    "\n",
    "package_name = 'car_bot'\n",
    "\n",
    "setup(\n",
    "    name=package_name,\n",
    "    version='0.0.0',\n",
    "    packages=find_packages(),\n",
    "    data_files=[\n",
    "            ('share/ament_index/resource_index/packages',\n",
    "                ['resource/' + package_name]),\n",
    "            ('share/' + package_name, ['package.xml']),\n",
    "            # Include the launch and model directories\n",
    "            ('share/' + package_name + '/launch', ['launch/carbot.launch.py']),\n",
    "            ('share/' + package_name + '/model', ['model/car_bot.urdf']),\n",
    "            ('share/' + package_name + '/model', ['model/model.config']),\n",
    "            ('share/' + package_name + '/model', ['model/CustomGzInterface.config']),\n",
    "            ('share/' + package_name + '/model/meshes', ['model/meshes/CAR_BODY.stl']),\n",
    "            ('share/' + package_name + '/model/meshes', ['model/meshes/wheel1.STL']),\n",
    "            ('share/' + package_name + '/model/meshes', ['model/meshes/wheel2.STL']),\n",
    "            ('share/' + package_name + '/model/meshes', ['model/meshes/wheel3.STL']),\n",
    "            ('share/' + package_name + '/model/meshes', ['model/meshes/wheel4.STL']),\n",
    "    ],\n",
    "    install_requires=['setuptools'],\n",
    "    zip_safe=True,\n",
    "    maintainer='zahid',\n",
    "    maintainer_email='zahid@nextaisense.com',\n",
    "    description='ROS_GAZEBO Integrated Project',\n",
    "    license='Apache-2.0',\n",
    "    tests_require=['pytest'],\n",
    "    entry_points={\n",
    "        'console_scripts': [\n",
    "        ],\n",
    "    },\n",
    ")\n"
   ]
  },
  {
   "cell_type": "markdown",
   "metadata": {},
   "source": [
    "Here the car_bot model is made up of CAR_BODY.stl, wheel1.STL, wheel2.STL and so on links. Remember to check the ASCII/Binary format of the parts or links. Note that for this CAR_BODY.stl file will only be loaded but the wheel1.STL, wheel2.STL and so on files are not able to be loaded in the gazebo interface as they have some issue in the foramting."
   ]
  },
  {
   "cell_type": "markdown",
   "metadata": {},
   "source": [
    "Now move up to the rosgz_ws workspace and build the package using colcon as"
   ]
  },
  {
   "cell_type": "code",
   "execution_count": null,
   "metadata": {
    "vscode": {
     "languageId": "shellscript"
    }
   },
   "outputs": [],
   "source": [
    "cd ../../\n",
    "colcon build --packages-select car_bot"
   ]
  },
  {
   "cell_type": "markdown",
   "metadata": {},
   "source": [
    "After successful building of the package then source the setup of the package as"
   ]
  },
  {
   "cell_type": "code",
   "execution_count": null,
   "metadata": {
    "vscode": {
     "languageId": "shellscript"
    }
   },
   "outputs": [],
   "source": [
    "source install/setup.bash"
   ]
  },
  {
   "cell_type": "markdown",
   "metadata": {},
   "source": [
    "And then launch the carbot.launch.py file as"
   ]
  },
  {
   "cell_type": "code",
   "execution_count": null,
   "metadata": {
    "vscode": {
     "languageId": "shellscript"
    }
   },
   "outputs": [],
   "source": [
    "ros2 launch car_bot carbot.launch.py"
   ]
  },
  {
   "cell_type": "markdown",
   "metadata": {},
   "source": [
    "And wait for sometime if loading takes time and then enjoy. Move your robot using the buttons. Dont forget to press the play button first. Enjoy!!"
   ]
  }
 ],
 "metadata": {
  "kernelspec": {
   "display_name": "venv",
   "language": "python",
   "name": "python3"
  },
  "language_info": {
   "codemirror_mode": {
    "name": "ipython",
    "version": 3
   },
   "file_extension": ".py",
   "mimetype": "text/x-python",
   "name": "python",
   "nbconvert_exporter": "python",
   "pygments_lexer": "ipython3",
   "version": "3.12.3"
  }
 },
 "nbformat": 4,
 "nbformat_minor": 2
}
